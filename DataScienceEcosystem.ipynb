{
 "cells": [
  {
   "cell_type": "markdown",
   "metadata": {},
   "source": [
    "<center>\n",
    "    <img src=\"https://cf-courses-data.s3.us.cloud-object-storage.appdomain.cloud/IBMDeveloperSkillsNetwork-DS0105EN-SkillsNetwork/labs/Module2/images/SN_web_lightmode.png\" width=\"300\" alt=\"cognitiveclass.ai logo\">\n",
    "</center>\n"
   ]
  },
  {
   "cell_type": "markdown",
   "metadata": {},
   "source": [
    "#### Add your code below following the instructions given in the course\n"
   ]
  },
  {
   "cell_type": "markdown",
   "metadata": {},
   "source": [
    "# Proyecto Final: Introducción a la Ciencia de Datos\n"
   ]
  },
  {
   "cell_type": "markdown",
   "metadata": {},
   "source": [
    "## Introducción\n",
    "\n",
    "Este cuaderno explora los fundamentos de la ciencia de datos, incluyendo lenguajes, bibliotecas, herramientas y ejemplos básicos en Python.\n"
   ]
  },
  {
   "cell_type": "markdown",
   "metadata": {},
   "source": [
    "## Lenguajes de la Ciencia de Datos\n",
    "\n",
    "Los principales lenguajes utilizados en ciencia de datos son:\n",
    "\n",
    "- Python\n",
    "- R\n",
    "- SQL\n",
    "- Julia\n",
    "- Scala\n"
   ]
  },
  {
   "cell_type": "markdown",
   "metadata": {},
   "source": [
    "## Bibliotecas Populares de Ciencia de Datos\n",
    "\n",
    "Algunas bibliotecas populares incluyen:\n",
    "\n",
    "- **NumPy**: para operaciones matemáticas y matrices.\n",
    "- **Pandas**: para manipulación y análisis de datos.\n",
    "- **Matplotlib** y **Seaborn**: para visualización de datos.\n",
    "- **Scikit-learn**: para aprendizaje automático.\n",
    "- **TensorFlow** y **PyTorch**: para aprendizaje profundo.\n"
   ]
  },
  {
   "cell_type": "markdown",
   "metadata": {},
   "source": [
    "## Herramientas de Ciencia de Datos\n",
    "\n",
    "| Herramienta       | Descripción                           |\n",
    "|-------------------|---------------------------------------|\n",
    "| Jupyter Notebook  | Entorno interactivo para escribir y ejecutar código. |\n",
    "| RStudio           | IDE para R, muy usado en estadística. |\n",
    "| VS Code           | Editor de código versátil.            |\n",
    "| Tableau           | Visualización de datos.               |\n",
    "| Apache Spark      | Procesamiento de datos a gran escala. |\n"
   ]
  },
  {
   "cell_type": "markdown",
   "metadata": {},
   "source": [
    "## Ejemplos de Expresiones Aritméticas\n",
    "\n",
    "Algunos ejemplos en Python:\n",
    "\n",
    "- Suma: `2 + 3`\n",
    "- Resta: `5 - 1`\n",
    "- Multiplicación: `4 * 6`\n",
    "- División: `10 / 2`\n",
    "- Potencia: `2 ** 3`\n"
   ]
  },
  {
   "cell_type": "code",
   "execution_count": 1,
   "metadata": {},
   "outputs": [
    {
     "name": "stdout",
     "output_type": "stream",
     "text": [
      "Resultado: 17\n"
     ]
    }
   ],
   "source": [
    "# Multiplicación y suma\n",
    "a = 5\n",
    "b = 3\n",
    "resultado = (a * b) + 2\n",
    "print(\"Resultado:\", resultado)\n"
   ]
  },
  {
   "cell_type": "code",
   "execution_count": 2,
   "metadata": {},
   "outputs": [
    {
     "name": "stdout",
     "output_type": "stream",
     "text": [
      "Horas: 2.5\n"
     ]
    }
   ],
   "source": [
    "# Conversión de minutos a horas\n",
    "minutos = 150\n",
    "horas = minutos / 60\n",
    "print(\"Horas:\", horas)\n"
   ]
  },
  {
   "cell_type": "code",
   "execution_count": 3,
   "metadata": {},
   "outputs": [
    {
     "name": "stdout",
     "output_type": "stream",
     "text": [
      "- Aprender fundamentos de ciencia de datos\n",
      "- Practicar expresiones aritméticas\n",
      "- Explorar bibliotecas y herramientas útiles\n"
     ]
    }
   ],
   "source": [
    "# Lista de Objetivos\n",
    "objetivos = [\n",
    "    \"Aprender fundamentos de ciencia de datos\",\n",
    "    \"Practicar expresiones aritméticas\",\n",
    "    \"Explorar bibliotecas y herramientas útiles\"\n",
    "]\n",
    "\n",
    "for objetivo in objetivos:\n",
    "    print(\"- \" + objetivo)\n"
   ]
  },
  {
   "cell_type": "markdown",
   "metadata": {},
   "source": [
    "## Autor\n",
    "\n",
    "**Nombre del estudiante: Antonio Martín Revuelta**\n"
   ]
  },
  {
   "cell_type": "code",
   "execution_count": null,
   "metadata": {},
   "outputs": [],
   "source": []
  }
 ],
 "metadata": {
  "kernelspec": {
   "display_name": "Python 3 (ipykernel)",
   "language": "python",
   "name": "python3"
  },
  "language_info": {
   "codemirror_mode": {
    "name": "ipython",
    "version": 3
   },
   "file_extension": ".py",
   "mimetype": "text/x-python",
   "name": "python",
   "nbconvert_exporter": "python",
   "pygments_lexer": "ipython3",
   "version": "3.12.8"
  }
 },
 "nbformat": 4,
 "nbformat_minor": 4
}
